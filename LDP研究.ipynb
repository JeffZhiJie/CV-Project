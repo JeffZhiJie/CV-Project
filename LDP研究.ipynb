{
 "cells": [
  {
   "cell_type": "markdown",
   "id": "7262f9bb",
   "metadata": {},
   "source": [
    "針對SC、SP 延伸之極端事件策略，"
   ]
  }
 ],
 "metadata": {
  "language_info": {
   "name": "python"
  }
 },
 "nbformat": 4,
 "nbformat_minor": 5
}
